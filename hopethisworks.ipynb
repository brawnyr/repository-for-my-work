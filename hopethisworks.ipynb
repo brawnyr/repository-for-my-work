{
 "cells": [
  {
   "cell_type": "markdown",
   "source": [
    "![weenie](https://user-images.githubusercontent.com/94146962/210137703-e2da8d5e-c315-4c89-aba7-af2aa6a9c17b.gif)"
   ],
   "metadata": {
    "collapsed": false
   }
  },
  {
   "cell_type": "markdown",
   "source": [
    " # The purpose of this project is to draw insight from a dog breed characteristic dataset."
   ],
   "metadata": {
    "collapsed": false
   }
  },
  {
   "cell_type": "markdown",
   "source": [
    "### We will be using the pandas library to examine this dataset."
   ],
   "metadata": {
    "collapsed": false
   }
  },
  {
   "cell_type": "code",
   "execution_count": 47,
   "outputs": [],
   "source": [
    "import pandas as pd"
   ],
   "metadata": {
    "collapsed": false
   }
  },
  {
   "cell_type": "markdown",
   "source": [
    "Now we will create a dataframe from our dataset which is in csv format.\n",
    "*dogc = name of dataframe"
   ],
   "metadata": {
    "collapsed": false
   }
  },
  {
   "cell_type": "code",
   "execution_count": 48,
   "outputs": [],
   "source": [
    "dogc = pd.read_csv('https://github.com/brawnyr/repository-for-my-work/blob/cc0505de25d6d56895d1bbf868fe21d49a072f06/dog.csv?raw=true')"
   ],
   "metadata": {
    "collapsed": false
   }
  },
  {
   "cell_type": "code",
   "execution_count": 49,
   "outputs": [
    {
     "data": {
      "text/plain": "                     Breed  Affectionate With Family  \\\n0    Retrievers (Labrador)                         5   \n1          French Bulldogs                         5   \n2     German Shepherd Dogs                         5   \n3      Retrievers (Golden)                         5   \n4                 Bulldogs                         4   \n..                     ...                       ...   \n190         Cesky Terriers                         4   \n191     American Foxhounds                         3   \n192               Azawakhs                         3   \n193      English Foxhounds                         5   \n194   Norwegian Lundehunds                         3   \n\n     Good With Young Children  Good With Other Dogs  Shedding Level  \\\n0                           5                     5               4   \n1                           5                     4               3   \n2                           5                     3               4   \n3                           5                     5               4   \n4                           3                     3               3   \n..                        ...                   ...             ...   \n190                         5                     3               2   \n191                         5                     5               3   \n192                         3                     3               2   \n193                         5                     5               3   \n194                         3                     3               3   \n\n     Coat Grooming Frequency  Drooling Level Coat Type Coat Length  \\\n0                          2               2    Double       Short   \n1                          1               3    Smooth       Short   \n2                          2               2    Double      Medium   \n3                          2               2    Double      Medium   \n4                          3               3    Smooth       Short   \n..                       ...             ...       ...         ...   \n190                        2               1      Wavy      Medium   \n191                        1               1    Smooth       Short   \n192                        2               1    Smooth       Short   \n193                        1               2    Double       Short   \n194                        2               1    Double       Short   \n\n     Openness To Strangers  Playfulness Level  Watchdog/Protective Nature  \\\n0                        5                  5                           3   \n1                        5                  5                           3   \n2                        3                  4                           5   \n3                        5                  4                           3   \n4                        4                  4                           3   \n..                     ...                ...                         ...   \n190                      4                  3                           3   \n191                      3                  3                           3   \n192                      1                  3                           3   \n193                      4                  4                           3   \n194                      3                  3                           3   \n\n     Adaptability Level  Trainability Level  Energy Level  Barking Level  \\\n0                     5                   5             5              3   \n1                     5                   4             3              1   \n2                     5                   5             5              3   \n3                     5                   5             3              1   \n4                     3                   4             3              2   \n..                  ...                 ...           ...            ...   \n190                   4                   3             3              3   \n191                   3                   3             4              5   \n192                   3                   2             3              1   \n193                   4                   4             4              5   \n194                   3                   3             3              3   \n\n     Mental Stimulation Needs  \n0                           4  \n1                           3  \n2                           5  \n3                           4  \n4                           3  \n..                        ...  \n190                         3  \n191                         3  \n192                         3  \n193                         4  \n194                         3  \n\n[195 rows x 17 columns]",
      "text/html": "<div>\n<style scoped>\n    .dataframe tbody tr th:only-of-type {\n        vertical-align: middle;\n    }\n\n    .dataframe tbody tr th {\n        vertical-align: top;\n    }\n\n    .dataframe thead th {\n        text-align: right;\n    }\n</style>\n<table border=\"1\" class=\"dataframe\">\n  <thead>\n    <tr style=\"text-align: right;\">\n      <th></th>\n      <th>Breed</th>\n      <th>Affectionate With Family</th>\n      <th>Good With Young Children</th>\n      <th>Good With Other Dogs</th>\n      <th>Shedding Level</th>\n      <th>Coat Grooming Frequency</th>\n      <th>Drooling Level</th>\n      <th>Coat Type</th>\n      <th>Coat Length</th>\n      <th>Openness To Strangers</th>\n      <th>Playfulness Level</th>\n      <th>Watchdog/Protective Nature</th>\n      <th>Adaptability Level</th>\n      <th>Trainability Level</th>\n      <th>Energy Level</th>\n      <th>Barking Level</th>\n      <th>Mental Stimulation Needs</th>\n    </tr>\n  </thead>\n  <tbody>\n    <tr>\n      <th>0</th>\n      <td>Retrievers (Labrador)</td>\n      <td>5</td>\n      <td>5</td>\n      <td>5</td>\n      <td>4</td>\n      <td>2</td>\n      <td>2</td>\n      <td>Double</td>\n      <td>Short</td>\n      <td>5</td>\n      <td>5</td>\n      <td>3</td>\n      <td>5</td>\n      <td>5</td>\n      <td>5</td>\n      <td>3</td>\n      <td>4</td>\n    </tr>\n    <tr>\n      <th>1</th>\n      <td>French Bulldogs</td>\n      <td>5</td>\n      <td>5</td>\n      <td>4</td>\n      <td>3</td>\n      <td>1</td>\n      <td>3</td>\n      <td>Smooth</td>\n      <td>Short</td>\n      <td>5</td>\n      <td>5</td>\n      <td>3</td>\n      <td>5</td>\n      <td>4</td>\n      <td>3</td>\n      <td>1</td>\n      <td>3</td>\n    </tr>\n    <tr>\n      <th>2</th>\n      <td>German Shepherd Dogs</td>\n      <td>5</td>\n      <td>5</td>\n      <td>3</td>\n      <td>4</td>\n      <td>2</td>\n      <td>2</td>\n      <td>Double</td>\n      <td>Medium</td>\n      <td>3</td>\n      <td>4</td>\n      <td>5</td>\n      <td>5</td>\n      <td>5</td>\n      <td>5</td>\n      <td>3</td>\n      <td>5</td>\n    </tr>\n    <tr>\n      <th>3</th>\n      <td>Retrievers (Golden)</td>\n      <td>5</td>\n      <td>5</td>\n      <td>5</td>\n      <td>4</td>\n      <td>2</td>\n      <td>2</td>\n      <td>Double</td>\n      <td>Medium</td>\n      <td>5</td>\n      <td>4</td>\n      <td>3</td>\n      <td>5</td>\n      <td>5</td>\n      <td>3</td>\n      <td>1</td>\n      <td>4</td>\n    </tr>\n    <tr>\n      <th>4</th>\n      <td>Bulldogs</td>\n      <td>4</td>\n      <td>3</td>\n      <td>3</td>\n      <td>3</td>\n      <td>3</td>\n      <td>3</td>\n      <td>Smooth</td>\n      <td>Short</td>\n      <td>4</td>\n      <td>4</td>\n      <td>3</td>\n      <td>3</td>\n      <td>4</td>\n      <td>3</td>\n      <td>2</td>\n      <td>3</td>\n    </tr>\n    <tr>\n      <th>...</th>\n      <td>...</td>\n      <td>...</td>\n      <td>...</td>\n      <td>...</td>\n      <td>...</td>\n      <td>...</td>\n      <td>...</td>\n      <td>...</td>\n      <td>...</td>\n      <td>...</td>\n      <td>...</td>\n      <td>...</td>\n      <td>...</td>\n      <td>...</td>\n      <td>...</td>\n      <td>...</td>\n      <td>...</td>\n    </tr>\n    <tr>\n      <th>190</th>\n      <td>Cesky Terriers</td>\n      <td>4</td>\n      <td>5</td>\n      <td>3</td>\n      <td>2</td>\n      <td>2</td>\n      <td>1</td>\n      <td>Wavy</td>\n      <td>Medium</td>\n      <td>4</td>\n      <td>3</td>\n      <td>3</td>\n      <td>4</td>\n      <td>3</td>\n      <td>3</td>\n      <td>3</td>\n      <td>3</td>\n    </tr>\n    <tr>\n      <th>191</th>\n      <td>American Foxhounds</td>\n      <td>3</td>\n      <td>5</td>\n      <td>5</td>\n      <td>3</td>\n      <td>1</td>\n      <td>1</td>\n      <td>Smooth</td>\n      <td>Short</td>\n      <td>3</td>\n      <td>3</td>\n      <td>3</td>\n      <td>3</td>\n      <td>3</td>\n      <td>4</td>\n      <td>5</td>\n      <td>3</td>\n    </tr>\n    <tr>\n      <th>192</th>\n      <td>Azawakhs</td>\n      <td>3</td>\n      <td>3</td>\n      <td>3</td>\n      <td>2</td>\n      <td>2</td>\n      <td>1</td>\n      <td>Smooth</td>\n      <td>Short</td>\n      <td>1</td>\n      <td>3</td>\n      <td>3</td>\n      <td>3</td>\n      <td>2</td>\n      <td>3</td>\n      <td>1</td>\n      <td>3</td>\n    </tr>\n    <tr>\n      <th>193</th>\n      <td>English Foxhounds</td>\n      <td>5</td>\n      <td>5</td>\n      <td>5</td>\n      <td>3</td>\n      <td>1</td>\n      <td>2</td>\n      <td>Double</td>\n      <td>Short</td>\n      <td>4</td>\n      <td>4</td>\n      <td>3</td>\n      <td>4</td>\n      <td>4</td>\n      <td>4</td>\n      <td>5</td>\n      <td>4</td>\n    </tr>\n    <tr>\n      <th>194</th>\n      <td>Norwegian Lundehunds</td>\n      <td>3</td>\n      <td>3</td>\n      <td>3</td>\n      <td>3</td>\n      <td>2</td>\n      <td>1</td>\n      <td>Double</td>\n      <td>Short</td>\n      <td>3</td>\n      <td>3</td>\n      <td>3</td>\n      <td>3</td>\n      <td>3</td>\n      <td>3</td>\n      <td>3</td>\n      <td>3</td>\n    </tr>\n  </tbody>\n</table>\n<p>195 rows × 17 columns</p>\n</div>"
     },
     "execution_count": 49,
     "metadata": {},
     "output_type": "execute_result"
    }
   ],
   "source": [
    "dogc"
   ],
   "metadata": {
    "collapsed": false
   }
  }
 ],
 "metadata": {
  "kernelspec": {
   "display_name": "Python 3 (ipykernel)",
   "language": "python",
   "name": "python3"
  },
  "language_info": {
   "codemirror_mode": {
    "name": "ipython",
    "version": 3
   },
   "file_extension": ".py",
   "mimetype": "text/x-python",
   "name": "python",
   "nbconvert_exporter": "python",
   "pygments_lexer": "ipython3",
   "version": "3.10.6"
  }
 },
 "nbformat": 4,
 "nbformat_minor": 1
}
